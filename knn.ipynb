{
 "cells": [
  {
   "cell_type": "code",
   "execution_count": 1,
   "metadata": {},
   "outputs": [
    {
     "name": "stdout",
     "output_type": "stream",
     "text": [
      "Dataset shape:(125973, 42)\n",
      "The number of duplicated records: 9\n",
      "Train-set shape:(94473, 41)\n",
      "Test-set shape:(31491, 41)\n",
      "The data has been reduced from 122 features to -> 37 features\n",
      "The number of features has been reduced from 37 to -> 27\n"
     ]
    }
   ],
   "source": [
    "#importing the modules\n",
    "import pandas as pd\n",
    "import numpy as np\n",
    "import seaborn as sns\n",
    "import matplotlib.pyplot as plt\n",
    "from sklearn import preprocessing\n",
    "from sklearn.model_selection import train_test_split\n",
    "from sklearn import linear_model\n",
    "from sklearn import metrics\n",
    "#import plotly.express as px\n",
    "from sklearn.neighbors import KNeighborsClassifier\n",
    "plt.rc('font', size=20) \n",
    "plt.rc('axes', titlesize=20)\n",
    "plt.rc('axes', labelsize=20)\n",
    "plt.rc('xtick', labelsize=20)\n",
    "plt.rc('ytick', labelsize=20) \n",
    "plt.rc('legend', fontsize=20)    \n",
    "plt.rc('figure', titlesize=20)\n",
    "import warnings\n",
    "warnings.filterwarnings('ignore')\n",
    "%config Completer.use_jedi = False\n",
    "\n",
    "\n",
    "#describing the columns and reading the data from the csv file\n",
    "col_names = [\n",
    "    \"duration\", \"protocol_type\", \"service\", \"flag\", \"src_bytes\", \"dst_bytes\",\n",
    "    \"land\", \"wrong_fragment\", \"urgent\", \"hot\", \"num_failed_logins\",\n",
    "    \"logged_in\", \"num_compromised\", \"root_shell\", \"su_attempted\", \"num_root\",\n",
    "    \"num_file_creations\", \"num_shells\", \"num_access_files\",\n",
    "    \"num_outbound_cmds\", \"is_host_login\", \"is_guest_login\", \"count\",\n",
    "    \"srv_count\", \"serror_rate\", \"srv_serror_rate\", \"rerror_rate\",\n",
    "    \"srv_rerror_rate\", \"same_srv_rate\", \"diff_srv_rate\", \"srv_diff_host_rate\",\n",
    "    \"dst_host_count\", \"dst_host_srv_count\", \"dst_host_same_srv_rate\",\n",
    "    \"dst_host_diff_srv_rate\", \"dst_host_same_src_port_rate\",\n",
    "    \"dst_host_srv_diff_host_rate\", \"dst_host_serror_rate\",\n",
    "    \"dst_host_srv_serror_rate\", \"dst_host_rerror_rate\",\n",
    "    \"dst_host_srv_rerror_rate\", \"labels\"\n",
    "]\n",
    "df = pd.read_csv('../project/nsl-kdd/KDDTrain+.txt', names=col_names, index_col=False)\n",
    "\n",
    "\n",
    "#exploring the dataset\n",
    "df.head()\n",
    "df.describe()\n",
    "#labelling data as attack type and normal type and counting their values in the dataset\n",
    "df.loc[df.labels != 'normal', 'labels'] = 'attack'\n",
    "df['labels'].value_counts()\n",
    "\n",
    "#exploring the dataset some more\n",
    "print(f\"Dataset shape:{df.shape}\")\n",
    "df.isna().sum()\n",
    "\n",
    "#printing duplicate values and droping the columns with duplicate values\n",
    "print(f\"The number of duplicated records: {df.duplicated().sum()}\")\n",
    "df.drop_duplicates(inplace=True)\n",
    "\n",
    "#splitting the data\n",
    "X = df.drop('labels',axis=1)\n",
    "Y = df['labels']\n",
    "X_train, X_test, Y_train, Y_test = train_test_split(X, Y, test_size=0.25, random_state=41)\n",
    "print(f\"Train-set shape:{X_train.shape}\")\n",
    "print(f\"Test-set shape:{X_test.shape}\")\n",
    "\n",
    "#exploring the training data\n",
    "X_train.head()\n",
    "\n",
    "#Scaling numeric features using Standard scalar\n",
    "std_scaler = preprocessing.StandardScaler()\n",
    "def standardization(df, col):\n",
    "    for i in col:\n",
    "        arr = np.array(df[i])\n",
    "        df[i] = std_scaler.fit_transform(arr.reshape(len(arr),1))\n",
    "    return df\n",
    "  \n",
    "numeric_col = X_train.select_dtypes(include='number').columns\n",
    "X_train = standardization(X_train, numeric_col)\n",
    "X_test = standardization(X_test, numeric_col)\n",
    "X_train.head()\n",
    "\n",
    "cat_col = X_train.select_dtypes('object').columns\n",
    "# encoding train set\n",
    "categorical_train = X_train[cat_col]\n",
    "categorical_train = pd.get_dummies(categorical_train,columns=cat_col)\n",
    "categorical_train.head()\n",
    "\n",
    "X_train.drop(cat_col, axis=1, inplace=True)\n",
    "X_train = pd.concat([X_train, categorical_train],axis=1)\n",
    "X_train.head()\n",
    "\n",
    "\n",
    "cat_col = X_test.select_dtypes('object').columns\n",
    "# encoding test set\n",
    "categorical_test = X_test[cat_col]\n",
    "categorical_test = pd.get_dummies(categorical_test,columns=cat_col)\n",
    "\n",
    "#Adding missing columns to the test set\n",
    "fill_list = np.setdiff1d(categorical_train.columns, categorical_test.columns)\n",
    "for item in fill_list:\n",
    "    categorical_test[item]=0\n",
    "categorical_test = categorical_test[categorical_train.columns]\n",
    "\n",
    "#Combinig the features\n",
    "X_test.drop(cat_col, axis=1, inplace=True)\n",
    "X_test = pd.concat([X_test, categorical_test],axis=1)\n",
    "X_test.head()\n",
    "\n",
    "#dimensionality reduction using PCA\n",
    "from sklearn.decomposition import PCA\n",
    "pca = PCA(n_components= 0.99, random_state=40).fit(X_train)\n",
    "print(f\"The data has been reduced from {X_train.shape[1]} features to -> {len(pca.components_)} features\")\n",
    "X_train = pca.transform(X_train)\n",
    "X_test = pca.transform(X_test)\n",
    "\n",
    "#Feature selection using RFE (Recursive Feature Elimination)\n",
    "from sklearn.tree import DecisionTreeClassifier\n",
    "from sklearn.feature_selection import RFECV\n",
    "model = DecisionTreeClassifier()\n",
    "rfe = RFECV(model, n_jobs=-1)\n",
    "rfe.fit(X_train, Y_train)\n",
    "new_features_count = len(rfe.estimator_.feature_importances_)\n",
    "print(f\"The number of features has been reduced from {X_train.shape[1]} to -> {new_features_count}\")\n",
    "\n",
    "X_train = rfe.transform(X_train)\n",
    "X_test = rfe.transform(X_test)"
   ]
  },
  {
   "cell_type": "code",
   "execution_count": 2,
   "metadata": {},
   "outputs": [],
   "source": [
    "from sklearn.neighbors import KNeighborsClassifier\n",
    "\n",
    "\n",
    "test_scores = []\n",
    "train_scores = []\n",
    "\n",
    "for i in range(1,15):\n",
    "\n",
    "    knn = KNeighborsClassifier(i)\n",
    "    knn.fit(X_train,Y_train)\n",
    "    \n",
    "    train_scores.append(knn.score(X_train,Y_train))\n",
    "    test_scores.append(knn.score(X_test,Y_test))"
   ]
  },
  {
   "cell_type": "code",
   "execution_count": 3,
   "metadata": {},
   "outputs": [
    {
     "name": "stdout",
     "output_type": "stream",
     "text": [
      "Max train score 99.99682448953669 % and k = [1]\n"
     ]
    }
   ],
   "source": [
    "max_train_score = max(train_scores)\n",
    "train_scores_ind = [i for i, v in enumerate(train_scores) if v == max_train_score]\n",
    "print('Max train score {} % and k = {}'.format(max_train_score*100,list(map(lambda x: x+1, train_scores_ind))))"
   ]
  },
  {
   "cell_type": "code",
   "execution_count": 4,
   "metadata": {},
   "outputs": [
    {
     "name": "stdout",
     "output_type": "stream",
     "text": [
      "Max test score 99.47286526309104 % and k = [1]\n"
     ]
    }
   ],
   "source": [
    "max_test_score = max(test_scores)\n",
    "test_scores_ind = [i for i, v in enumerate(test_scores) if v == max_test_score]\n",
    "print('Max test score {} % and k = {}'.format(max_test_score*100,list(map(lambda x: x+1, test_scores_ind))))\n"
   ]
  },
  {
   "cell_type": "code",
   "execution_count": 5,
   "metadata": {},
   "outputs": [
    {
     "data": {
      "image/png": "[encoded data removed]",
      "text/plain": [
       "<Figure size 864x360 with 1 Axes>"
      ]
     },
     "metadata": {
      "needs_background": "light"
     },
     "output_type": "display_data"
    }
   ],
   "source": [
    "plt.figure(figsize=(12,5))\n",
    "p = sns.lineplot(range(1,15),train_scores,marker='*',label='Train Score')\n",
    "p = sns.lineplot(range(1,15),test_scores,marker='o',label='Test Score')"
   ]
  },
  {
   "cell_type": "code",
   "execution_count": 6,
   "metadata": {},
   "outputs": [
    {
     "data": {
      "text/plain": [
       "0.9947286526309104"
      ]
     },
     "execution_count": 6,
     "metadata": {},
     "output_type": "execute_result"
    }
   ],
   "source": [
    "knn = KNeighborsClassifier(1)\n",
    "\n",
    "knn.fit(X_train,Y_train)\n",
    "knn.score(X_test,Y_test)"
   ]
  },
  {
   "cell_type": "code",
   "execution_count": 7,
   "metadata": {},
   "outputs": [
    {
     "data": {
      "text/html": [
       "<div>\n",
       "<style scoped>\n",
       "    .dataframe tbody tr th:only-of-type {\n",
       "        vertical-align: middle;\n",
       "    }\n",
       "\n",
       "    .dataframe tbody tr th {\n",
       "        vertical-align: top;\n",
       "    }\n",
       "\n",
       "    .dataframe thead th {\n",
       "        text-align: right;\n",
       "    }\n",
       "</style>\n",
       "<table border=\"1\" class=\"dataframe\">\n",
       "  <thead>\n",
       "    <tr style=\"text-align: right;\">\n",
       "      <th>Predicted</th>\n",
       "      <th>attack</th>\n",
       "      <th>normal</th>\n",
       "      <th>All</th>\n",
       "    </tr>\n",
       "    <tr>\n",
       "      <th>True</th>\n",
       "      <th></th>\n",
       "      <th></th>\n",
       "      <th></th>\n",
       "    </tr>\n",
       "  </thead>\n",
       "  <tbody>\n",
       "    <tr>\n",
       "      <td>attack</td>\n",
       "      <td>14486</td>\n",
       "      <td>83</td>\n",
       "      <td>14569</td>\n",
       "    </tr>\n",
       "    <tr>\n",
       "      <td>normal</td>\n",
       "      <td>83</td>\n",
       "      <td>16839</td>\n",
       "      <td>16922</td>\n",
       "    </tr>\n",
       "    <tr>\n",
       "      <td>All</td>\n",
       "      <td>14569</td>\n",
       "      <td>16922</td>\n",
       "      <td>31491</td>\n",
       "    </tr>\n",
       "  </tbody>\n",
       "</table>\n",
       "</div>"
      ],
      "text/plain": [
       "Predicted  attack  normal    All\n",
       "True                            \n",
       "attack      14486      83  14569\n",
       "normal         83   16839  16922\n",
       "All         14569   16922  31491"
      ]
     },
     "execution_count": 7,
     "metadata": {},
     "output_type": "execute_result"
    }
   ],
   "source": [
    "from sklearn.metrics import confusion_matrix\n",
    "#let us get the predictions using the classifier we had fit above\n",
    "y_pred = knn.predict(X_test)\n",
    "confusion_matrix(Y_test,y_pred)\n",
    "pd.crosstab(Y_test, y_pred, rownames=['True'], colnames=['Predicted'], margins=True)"
   ]
  },
  {
   "cell_type": "code",
   "execution_count": 8,
   "metadata": {},
   "outputs": [
    {
     "data": {
      "text/plain": [
       "Text(0.5, 6.0, 'Predicted label')"
      ]
     },
     "execution_count": 8,
     "metadata": {},
     "output_type": "execute_result"
    },
    {
     "data": {
      "image/png": "[encoded data removed]",
      "text/plain": [
       "<Figure size 432x288 with 2 Axes>"
      ]
     },
     "metadata": {
      "needs_background": "light"
     },
     "output_type": "display_data"
    }
   ],
   "source": [
    "y_pred = knn.predict(X_test)\n",
    "from sklearn import metrics\n",
    "cnf_matrix = metrics.confusion_matrix(Y_test, y_pred)\n",
    "p = sns.heatmap(pd.DataFrame(cnf_matrix), annot=True, cmap=\"YlGnBu\" ,fmt='g')\n",
    "plt.title('Confusion matrix', Y=1.1)\n",
    "plt.ylabel('Actual label')\n",
    "plt.xlabel('Predicted label')"
   ]
  },
  {
   "cell_type": "code",
   "execution_count": 9,
   "metadata": {},
   "outputs": [
    {
     "name": "stdout",
     "output_type": "stream",
     "text": [
      "              precision    recall  f1-score   support\n",
      "\n",
      "      attack       0.99      0.99      0.99     14569\n",
      "      normal       1.00      1.00      1.00     16922\n",
      "\n",
      "    accuracy                           0.99     31491\n",
      "   macro avg       0.99      0.99      0.99     31491\n",
      "weighted avg       0.99      0.99      0.99     31491\n",
      "\n"
     ]
    }
   ],
   "source": [
    "from sklearn.metrics import classification_report\n",
    "print(classification_report(Y_test,y_pred))"
   ]
  },
  {
   "cell_type": "code",
   "execution_count": null,
   "metadata": {},
   "outputs": [],
   "source": []
  },
  {
   "cell_type": "code",
   "execution_count": null,
   "metadata": {},
   "outputs": [],
   "source": []
  },
  {
   "cell_type": "code",
   "execution_count": null,
   "metadata": {},
   "outputs": [],
   "source": []
  }
 ],
 "metadata": {
  "kernelspec": {
   "display_name": "Python 3",
   "language": "python",
   "name": "python3"
  },
  "language_info": {
   "codemirror_mode": {
    "name": "ipython",
    "version": 3
   },
   "file_extension": ".py",
   "mimetype": "text/x-python",
   "name": "python",
   "nbconvert_exporter": "python",
   "pygments_lexer": "ipython3",
   "version": "3.6.8"
  },
  "toc": {
   "base_numbering": 1,
   "nav_menu": {},
   "number_sections": true,
   "sideBar": true,
   "skip_h1_title": false,
   "title_cell": "Table of Contents",
   "title_sidebar": "Contents",
   "toc_cell": false,
   "toc_position": {},
   "toc_section_display": true,
   "toc_window_display": false
  }
 },
 "nbformat": 4,
 "nbformat_minor": 2
}
